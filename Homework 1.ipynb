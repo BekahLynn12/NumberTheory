{
 "cells": [
  {
   "cell_type": "markdown",
   "id": "8e399de8-9729-40da-ae72-b522dc41ba28",
   "metadata": {},
   "source": [
    "How many primes are there less than 10^6?\n",
    "\n",
    "Find x,y such that 2015x+93y=31\n",
    "\n",
    "Extra Credit: Let r(n) be the number formed by repeating n 1s. For example r(5)=11111. \n",
    "Find gcd(r(2025),r(103))."
   ]
  },
  {
   "cell_type": "code",
   "execution_count": null,
   "id": "fe8b855d-5b96-42e5-88fe-b0f4f5d1ff1a",
   "metadata": {
    "vscode": {
     "languageId": "python"
    }
   },
   "outputs": [],
   "source": []
  },
  {
   "cell_type": "code",
   "execution_count": 1,
   "id": "3ae4cb2a-9854-4963-8da4-a007d1ddeeaa",
   "metadata": {
    "vscode": {
     "languageId": "python"
    }
   },
   "outputs": [
    {
     "name": "stdout",
     "output_type": "stream",
     "text": [
      "There are 4 primes less than 10.\n"
     ]
    }
   ],
   "source": [
    "def prime_check(a, primes_upto_a):\n",
    "    \n",
    "    for prime in primes_upto_a: \n",
    "        if sqrt(a) < prime: \n",
    "            return True\n",
    "        elif a % prime == 0: \n",
    "            return False\n",
    "        else:\n",
    "            continue\n",
    "    return True\n",
    "\n",
    "upper = 10^6\n",
    "\n",
    "primes = []\n",
    "\n",
    "for a in range(2,upper): \n",
    "    check_value = prime_check(a,primes)\n",
    "    if check_value == False: \n",
    "        continue\n",
    "    else: \n",
    "        primes.append(a)\n",
    "\n",
    "count = len(primes)\n",
    "\n",
    "print(f'There are {count} primes less than {upper}.')"
   ]
  },
  {
   "cell_type": "code",
   "execution_count": null,
   "id": "0d1c0b8f-0aef-4cda-a9ed-7970b227ec1c",
   "metadata": {
    "vscode": {
     "languageId": "python"
    }
   },
   "outputs": [],
   "source": []
  },
  {
   "cell_type": "markdown",
   "id": "52438ae4-e0d7-4b9b-9089-e1487a6eae25",
   "metadata": {},
   "source": [
    "Find x,y such that 2015x+93y=31"
   ]
  },
  {
   "cell_type": "code",
   "execution_count": null,
   "id": "bb777d61-9be5-4beb-910a-375f3ce0fcd0",
   "metadata": {
    "vscode": {
     "languageId": "python"
    }
   },
   "outputs": [],
   "source": []
  },
  {
   "cell_type": "code",
   "execution_count": 131,
   "id": "d6d66c07-898e-4d7d-9b87-2b5314ea7b72",
   "metadata": {
    "vscode": {
     "languageId": "python"
    }
   },
   "outputs": [],
   "source": [
    "def Euclid_alg(a,b): \n",
    "    \n",
    "    q_i = a//b\n",
    "    r_i = a%b\n",
    "\n",
    "    return q_i, r_i\n",
    "\n",
    "def Euclid_recurse(a,b):\n",
    "    qs=[]\n",
    "    rs=[]\n",
    "    rs.append(b) \n",
    "    q_1, r_1 = Euclid_alg(a,b)\n",
    "    qs.append(q_1)\n",
    "    rs.append(r_1)\n",
    "    i = len(qs)\n",
    "    while rs[i] > 0:\n",
    "        q_i, r_i = Euclid_alg(rs[i-1],rs[i])\n",
    "        rs.append(r_i)\n",
    "        qs.append(q_i)\n",
    "        i = len(qs)\n",
    "\n",
    "    return(rs[i-1], rs, qs)\n",
    "    \n",
    "    \n",
    "    "
   ]
  },
  {
   "cell_type": "markdown",
   "id": "8de70dbf-6d8f-48e5-9b24-52575914780c",
   "metadata": {},
   "source": [
    "a = b (q_1) + r_1 \n",
    "b = r_1 (q_2) + r_2 \n",
    "r_1 = r_2 (q_3) + r_3\n",
    "...\n",
    "r_n = r_(n+1) (q_(n+2)) + r_(n+2) \n",
    "\n",
    "r_(n+2) = r_n - r_(n+1) (q_(n+2))"
   ]
  },
  {
   "cell_type": "code",
   "execution_count": 141,
   "id": "e7f5aba9-eaef-480c-8bcf-2d46a92482e5",
   "metadata": {
    "vscode": {
     "languageId": "python"
    }
   },
   "outputs": [
    {
     "name": "stdout",
     "output_type": "stream",
     "text": [
      "31\n",
      "[93, 62, 31, 0]\n",
      "[21, 1, 2]\n"
     ]
    }
   ],
   "source": [
    "a=2015\n",
    "b=93\n",
    "GCD, qs, rs = Euclid_recurse(a,b)\n",
    "print(GCD)\n",
    "print(qs)\n",
    "print(rs)"
   ]
  },
  {
   "cell_type": "code",
   "execution_count": null,
   "id": "a049ad58-de55-45d6-8f46-efdf926ac29c",
   "metadata": {
    "vscode": {
     "languageId": "python"
    }
   },
   "outputs": [],
   "source": []
  },
  {
   "cell_type": "code",
   "execution_count": null,
   "id": "9d2a026b-4552-4f0a-964f-501663df7071",
   "metadata": {
    "vscode": {
     "languageId": "python"
    }
   },
   "outputs": [],
   "source": []
  }
 ],
 "metadata": {
  "kernelspec": {
   "display_name": "SageMath 10.5",
   "language": "sage",
   "name": "SageMath-10.5"
  },
  "language_info": {
   "codemirror_mode": {
    "name": "ipython",
    "version": 3
   },
   "file_extension": ".py",
   "mimetype": "text/x-python",
   "name": "sage",
   "nbconvert_exporter": "python",
   "pygments_lexer": "ipython3",
   "version": "3.12.5"
  }
 },
 "nbformat": 4,
 "nbformat_minor": 5
}
