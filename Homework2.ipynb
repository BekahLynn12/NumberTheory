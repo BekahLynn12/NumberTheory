{
 "cells": [
  {
   "cell_type": "code",
   "execution_count": 25,
   "id": "0d1c0b8f-0aef-4cda-a9ed-7970b227ec1c",
   "metadata": {},
   "outputs": [
    {
     "name": "stdout",
     "output_type": "stream",
     "text": [
      "The solutions for f(x) when x is between 1 and 10 are as follows\n",
      "x=1  : f(x)=43  |43  is Prime\n",
      "x=2  : f(x)=47  |47  is Prime\n",
      "x=3  : f(x)=53  |53  is Prime\n",
      "x=4  : f(x)=61  |61  is Prime\n",
      "x=5  : f(x)=71  |71  is Prime\n",
      "x=6  : f(x)=83  |83  is Prime\n",
      "x=7  : f(x)=97  |97  is Prime\n",
      "x=8  : f(x)=113 |113 is Prime\n",
      "x=9  : f(x)=131 |131 is Prime\n",
      "x=10 : f(x)=151 |151 is Prime\n"
     ]
    }
   ],
   "source": [
    "def f(x): \n",
    "    return x^2+x+41 \n",
    "\n",
    "def prime_check(a): \n",
    "    if a.is_prime() == True: \n",
    "        return \"Prime\" \n",
    "    else: \n",
    "        return \"Composite\"\n",
    "\n",
    "print(f'The solutions for f(x) when x is between 1 and 10 are as follows')\n",
    "\n",
    "for a in range(1,11): \n",
    "    answer = f(a)\n",
    "    a_prime = prime_check(answer)\n",
    "    if a< 10: \n",
    "        if answer<100: \n",
    "            print(f'x={a}  : f(x)={answer}  |{answer}  is {a_prime}')\n",
    "        else: \n",
    "            print(f'x={a}  : f(x)={answer} |{answer} is {a_prime}')\n",
    "\n",
    "    else: \n",
    "        if answer<100: \n",
    "            print(f'x={a} : f(x)={answer}  |{answer}  is {a_prime}')\n",
    "        else: \n",
    "            print(f'x={a} : f(x)={answer} |{answer} is {a_prime}')"
   ]
  },
  {
   "cell_type": "code",
   "execution_count": 7,
   "id": "353c8fb7",
   "metadata": {},
   "outputs": [
    {
     "name": "stdout",
     "output_type": "stream",
     "text": [
      "There is f(40)=1681 that is composite.\n"
     ]
    }
   ],
   "source": [
    "def f(x): \n",
    "    return x^2+x+41 \n",
    "\n",
    "upper = 100\n",
    "\n",
    "for a in range(1,upper+1): \n",
    "    an = f(a) \n",
    "    if an.is_prime() == False: \n",
    "        counter = an\n",
    "        break\n",
    "    else: \n",
    "        counter = \"none\"\n",
    "        continue \n",
    "\n",
    "if counter == \"none\": \n",
    "    print(f'There are no f(x) that are composite up to f({a}).')\n",
    "else: \n",
    "    print(f'There is f({a})={counter} that is composite.')"
   ]
  }
 ],
 "metadata": {
  "kernelspec": {
   "display_name": "SageMath 10.5",
   "language": "sage",
   "name": "SageMath-10.5"
  },
  "language_info": {
   "codemirror_mode": {
    "name": "ipython",
    "version": 3
   },
   "file_extension": ".py",
   "mimetype": "text/x-python",
   "name": "python",
   "nbconvert_exporter": "python",
   "pygments_lexer": "ipython3",
   "version": "3.12.5"
  }
 },
 "nbformat": 4,
 "nbformat_minor": 5
}
