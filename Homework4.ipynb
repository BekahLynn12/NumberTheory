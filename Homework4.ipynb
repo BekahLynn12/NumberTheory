{
 "cells": [
  {
   "cell_type": "code",
   "execution_count": null,
   "id": "d6d0e743",
   "metadata": {
    "vscode": {
     "languageId": "python"
    }
   },
   "outputs": [
    {
     "ename": "",
     "evalue": "",
     "output_type": "error",
     "traceback": [
      "\u001b[1;31mFailed to start the Kernel. \n",
      "\u001b[1;31mView Jupyter <a href='command:jupyter.viewOutput'>log</a> for further details."
     ]
    }
   ],
   "source": [
    "def abund(n): \n",
    "    sigma_n = sigma(n,1)\n",
    "    if sigma_n > 2*n: \n",
    "        return True\n",
    "    else: \n",
    "        return False\n",
    "    \n",
    "abundant_nums_10 = []\n",
    "\n",
    "n=1 \n",
    "while len(abundant_nums_10)<10: \n",
    "    test = abund(n)\n",
    "    if test == True: \n",
    "        abundant_nums_10.append(n) \n",
    "        n+= 1\n",
    "    else: \n",
    "        n+= 1\n",
    "\n",
    "print(f'The first 10 abundant numbers are {abundant_nums_10}.')"
   ]
  },
  {
   "cell_type": "code",
   "execution_count": 23,
   "id": "2437d467",
   "metadata": {
    "vscode": {
     "languageId": "python"
    }
   },
   "outputs": [
    {
     "name": "stdout",
     "output_type": "stream",
     "text": [
      "The frequency of abundant numbers in the first 100 integers is 22 integers out of 100.\n",
      "The frequency of abundant numbers in the first 1000 integers is 246 integers out of 1000.\n",
      "The frequency of abundant numbers in the first 10000 integers is 2488 integers out of 10000.\n",
      "The frequency of abundant numbers in the first 100000 integers is 24795 integers out of 100000.\n"
     ]
    }
   ],
   "source": [
    "def abund(n): \n",
    "    sigma_n = sigma(n,1)\n",
    "    if sigma_n > 2*n: \n",
    "        return True\n",
    "    else: \n",
    "        return False\n",
    "\n",
    "def frequency(upper):\n",
    "    a = 1 \n",
    "    abundant_nums = []\n",
    "    while a <= upper: \n",
    "        test = abund(a)\n",
    "        if test == True: \n",
    "            abundant_nums.append(a) \n",
    "            a+= 1\n",
    "        else: \n",
    "            a+= 1\n",
    "    freq = len(abundant_nums) \n",
    "    return freq\n",
    "\n",
    "\n",
    "\n",
    "for n in [100,1000,10000,100000]:\n",
    "    freq_n = frequency(n)\n",
    "    print(f'The frequency of abundant numbers in the first {n} integers is {freq_n} integers out of {n}.')"
   ]
  }
 ],
 "metadata": {
  "kernelspec": {
   "display_name": "SageMath 10.5",
   "language": "sage",
   "name": "SageMath-10.5"
  },
  "language_info": {
   "codemirror_mode": {
    "name": "ipython",
    "version": 3
   },
   "file_extension": ".py",
   "mimetype": "text/x-python",
   "name": "sage",
   "nbconvert_exporter": "python",
   "pygments_lexer": "ipython3",
   "version": "3.12.5"
  }
 },
 "nbformat": 4,
 "nbformat_minor": 5
}
