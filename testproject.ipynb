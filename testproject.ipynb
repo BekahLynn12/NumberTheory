{
 "cells": [
  {
   "cell_type": "code",
   "execution_count": 20,
   "id": "4a695756-dec9-4ea0-9e5d-ff42180b6ded",
   "metadata": {
    "vscode": {
     "languageId": "python"
    }
   },
   "outputs": [
    {
     "name": "stdout",
     "output_type": "stream",
     "text": [
      "3-adic Valuation of 28/27: -3.0 \n",
      "3-adic absolute value of 28/27: 27.0\n"
     ]
    }
   ],
   "source": [
    "def pabs(n,p):\n",
    "    x = float(valuation(n,p))\n",
    "    p=float(p)\n",
    "    answer = p^(-x)\n",
    "    return answer\n",
    "\n",
    "def both(n,p):\n",
    "    x = float(valuation(n,p))\n",
    "    pab = pabs(n,p) \n",
    "    return print(f'{p}-adic Valuation of {n}: {x} \\n{p}-adic absolute value of {n}: {pab}')\n",
    "p = 3 \n",
    "\n",
    "both(28/27,p)"
   ]
  },
  {
   "cell_type": "code",
   "execution_count": 8,
   "id": "13e10c4b",
   "metadata": {
    "vscode": {
     "languageId": "python"
    }
   },
   "outputs": [
    {
     "name": "stdout",
     "output_type": "stream",
     "text": [
      "0: 0: 0\n",
      "1: 72: 1\n",
      "2: 71: 4\n",
      "3: 70: 9\n",
      "4: 69: 16\n",
      "5: 68: 25\n",
      "6: 67: 36\n",
      "7: 66: 49\n",
      "8: 65: 64\n",
      "9: 64: 8\n",
      "10: 63: 27\n",
      "11: 62: 48\n",
      "12: 61: 71\n",
      "13: 60: 23\n",
      "14: 59: 50\n",
      "15: 58: 6\n",
      "16: 57: 37\n",
      "17: 56: 70\n",
      "18: 55: 32\n",
      "19: 54: 69\n",
      "20: 53: 35\n",
      "21: 52: 3\n",
      "22: 51: 46\n",
      "23: 50: 18\n",
      "24: 49: 65\n",
      "25: 48: 41\n",
      "26: 47: 19\n",
      "27: 46: 72\n",
      "28: 45: 54\n",
      "29: 44: 38\n",
      "30: 43: 24\n",
      "31: 42: 12\n",
      "32: 41: 2\n",
      "33: 40: 67\n",
      "34: 39: 61\n",
      "35: 38: 57\n",
      "36: 37: 55\n",
      "37: 36: 55\n",
      "38: 35: 57\n",
      "39: 34: 61\n",
      "40: 33: 67\n",
      "41: 32: 2\n",
      "42: 31: 12\n",
      "43: 30: 24\n",
      "44: 29: 38\n",
      "45: 28: 54\n",
      "46: 27: 72\n",
      "47: 26: 19\n",
      "48: 25: 41\n",
      "49: 24: 65\n",
      "50: 23: 18\n",
      "51: 22: 46\n",
      "52: 21: 3\n",
      "53: 20: 35\n",
      "54: 19: 69\n",
      "55: 18: 32\n",
      "56: 17: 70\n",
      "57: 16: 37\n",
      "58: 15: 6\n",
      "59: 14: 50\n",
      "60: 13: 23\n",
      "61: 12: 71\n",
      "62: 11: 48\n",
      "63: 10: 27\n",
      "64: 9: 8\n",
      "65: 8: 64\n",
      "66: 7: 49\n",
      "67: 6: 36\n",
      "68: 5: 25\n",
      "69: 4: 16\n",
      "70: 3: 9\n",
      "71: 2: 4\n",
      "72: 1: 1\n"
     ]
    }
   ],
   "source": [
    "def qr_check(p):\n",
    "    for a in Integers(p):\n",
    "         print(\"{}: {}: {}\".format(a, -a, a^2))\n",
    "\n",
    "\n",
    "\n",
    "p=73\n",
    "qr_check(p)"
   ]
  }
 ],
 "metadata": {
  "kernelspec": {
   "display_name": "SageMath 10.5",
   "language": "sage",
   "name": "SageMath-10.5"
  },
  "language_info": {
   "codemirror_mode": {
    "name": "ipython",
    "version": 3
   },
   "file_extension": ".py",
   "mimetype": "text/x-python",
   "name": "sage",
   "nbconvert_exporter": "python",
   "pygments_lexer": "ipython3",
   "version": "3.12.5"
  }
 },
 "nbformat": 4,
 "nbformat_minor": 5
}
