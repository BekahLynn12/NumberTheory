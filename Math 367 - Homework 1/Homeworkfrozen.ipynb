{
 "cells": [
  {
   "cell_type": "code",
   "execution_count": 18,
   "id": "0d1c0b8f-0aef-4cda-a9ed-7970b227ec1c",
   "metadata": {
    "vscode": {
     "languageId": "python"
    }
   },
   "outputs": [
    {
     "name": "stdout",
     "output_type": "stream",
     "text": [
      "There are 78498 primes less than 1000000.\n"
     ]
    }
   ],
   "source": [
    "upper = 10^6\n",
    "primes = list(filter(is_prime, [1..upper]))\n",
    "count = len(primes)\n",
    "\n",
    "print(f'There are {count} primes less than {upper}.')"
   ]
  },
  {
   "cell_type": "code",
   "execution_count": 22,
   "id": "bb777d61-9be5-4beb-910a-375f3ce0fcd0",
   "metadata": {
    "vscode": {
     "languageId": "python"
    }
   },
   "outputs": [
    {
     "name": "stdout",
     "output_type": "stream",
     "text": [
      "One solution for 2015x+93y-31 is x=-1 and y=22\n"
     ]
    }
   ],
   "source": [
    "GCD, x, y = xgcd(2015,93)\n",
    "\n",
    "print(f'One solution for 2015x+93y-31 is x={x} and y={y}.')"
   ]
  },
  {
   "cell_type": "code",
   "execution_count": 60,
   "id": "d6d0e743",
   "metadata": {
    "vscode": {
     "languageId": "python"
    }
   },
   "outputs": [
    {
     "name": "stdout",
     "output_type": "stream",
     "text": [
      "The gcd of r(2025) and r(103) is 1.\n"
     ]
    }
   ],
   "source": [
    "def r(n): \n",
    "    answer = 0\n",
    "    while n>0: \n",
    "        answer = answer + 10**(n-1)\n",
    "        n = n-1\n",
    "    return answer\n",
    "\n",
    "outcome = gcd(r(2025),r(103))\n",
    "\n",
    "print(f'The gcd of r(2025) and r(103) is {outcome}.')"
   ]
  }
 ],
 "metadata": {
  "kernelspec": {
   "display_name": "SageMath 10.5",
   "language": "sage",
   "name": "SageMath-10.5"
  },
  "language_info": {
   "codemirror_mode": {
    "name": "ipython",
    "version": 3
   },
   "file_extension": ".py",
   "mimetype": "text/x-python",
   "name": "sage",
   "nbconvert_exporter": "python",
   "pygments_lexer": "ipython3",
   "version": "3.12.5"
  }
 },
 "nbformat": 4,
 "nbformat_minor": 5
}
